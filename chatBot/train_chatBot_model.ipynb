{
 "cells": [
  {
   "cell_type": "markdown",
   "id": "7a4b0e04-3906-4bba-b5e8-f90eb6a4f33b",
   "metadata": {},
   "source": [
    "# Build Chatbot\n",
    "All chatbots come under the NLP (Natural Language Processing) concepts. NLP is composed of two things:\n",
    "\n",
    "- NLU (Natural Language Understanding): The ability of machines to understand human language like English.\n",
    "\n",
    "- NLG (Natural Language Generation): The ability of a machine to generate text similar to human written sentences."
   ]
  },
  {
   "cell_type": "code",
   "execution_count": 1,
   "id": "0264f469-e26b-428d-a9ee-9f9de03ca5b9",
   "metadata": {},
   "outputs": [],
   "source": [
    "import numpy as np\n",
    "import nltk\n",
    "import json\n",
    "import pickle\n",
    "import random\n",
    "from nltk.stem import WordNetLemmatizer\n",
    "from tensorflow.keras.models import Sequential\n",
    "from tensorflow.keras.layers import Dense, Activation, Dropout\n",
    "from tensorflow.keras.optimizers import SGD\n"
   ]
  },
  {
   "cell_type": "code",
   "execution_count": 2,
   "id": "80030606-86ed-4b1f-95e7-2675d14bdd72",
   "metadata": {},
   "outputs": [
    {
     "data": {
      "text/plain": [
       "dict"
      ]
     },
     "execution_count": 2,
     "metadata": {},
     "output_type": "execute_result"
    }
   ],
   "source": [
    "lemmatizer = WordNetLemmatizer()\n",
    "# load json data file\n",
    "intents_file = open('data/intents.json').read()\n",
    "intents = json.loads(intents_file)\n",
    "\n",
    "type(intents)"
   ]
  },
  {
   "cell_type": "code",
   "execution_count": 3,
   "id": "cbde43b0-eada-419e-a796-fa84f8e7785f",
   "metadata": {},
   "outputs": [
    {
     "name": "stdout",
     "output_type": "stream",
     "text": [
      "[(['Hi', 'there'], 'greeting'), (['How', 'are', 'you'], 'greeting'), (['Is', 'anyone', 'there', '?'], 'greeting'), (['Hey'], 'greeting'), (['Hola'], 'greeting'), (['Hello'], 'greeting'), (['Good', 'day'], 'greeting'), (['Bye'], 'goodbye'), (['See', 'you', 'later'], 'goodbye'), (['Goodbye'], 'goodbye')]\n"
     ]
    }
   ],
   "source": [
    "# processing data\n",
    "words = list()\n",
    "classes = list()\n",
    "documents = list()\n",
    "ignore_letters = ['!', '?', '.', ',']\n",
    "\n",
    "for intent in intents['intents']:\n",
    "    for pattern in intent['patterns']:\n",
    "        # word tokenize\n",
    "        tokens = nltk.word_tokenize(pattern)\n",
    "        words.extend(tokens)\n",
    "        # add to documents\n",
    "        documents.append((tokens, intent['tag']))\n",
    "        # add to the classes\n",
    "        if intent['tag'] not in classes:\n",
    "            classes.append(intent['tag'])\n",
    "\n",
    "print(documents[:10])"
   ]
  },
  {
   "cell_type": "code",
   "execution_count": 4,
   "id": "19804194-7297-47c3-a75e-7fb52ae77621",
   "metadata": {},
   "outputs": [
    {
     "data": {
      "text/plain": [
       "[\"'s\",\n",
       " 'a',\n",
       " 'adverse',\n",
       " 'all',\n",
       " 'anyone',\n",
       " 'are',\n",
       " 'awesome',\n",
       " 'be',\n",
       " 'behavior',\n",
       " 'blood']"
      ]
     },
     "execution_count": 4,
     "metadata": {},
     "output_type": "execute_result"
    }
   ],
   "source": [
    "# remove duplicate words with word lemmatize\n",
    "words = [lemmatizer.lemmatize(word.lower()) for word in words if word not in ignore_letters]\n",
    "words = sorted(list(set(words)))\n",
    "words[:10]"
   ]
  },
  {
   "cell_type": "code",
   "execution_count": 5,
   "id": "00b2bb39-a4d6-4ae7-8295-f3ac056ccc4a",
   "metadata": {},
   "outputs": [],
   "source": [
    "# save the classes and words into disk\n",
    "#pickle.dump(words, open('words.pkl', 'wb'))\n",
    "#pickle.dump(classes, open('classes.pkl', 'wb'))"
   ]
  },
  {
   "cell_type": "code",
   "execution_count": 6,
   "id": "3604eb9f-dacc-48d2-a7f7-b3214e4551d6",
   "metadata": {},
   "outputs": [
    {
     "data": {
      "text/plain": [
       "[0, 0, 0, 0, 0, 0, 0, 0, 0]"
      ]
     },
     "execution_count": 6,
     "metadata": {},
     "output_type": "execute_result"
    }
   ],
   "source": [
    "# create training data\n",
    "training = list()\n",
    "output_empty = [0] * len(classes)\n",
    "output_empty"
   ]
  },
  {
   "cell_type": "code",
   "execution_count": 7,
   "id": "477df134-4dfc-4f8b-81c2-a529c1a86f68",
   "metadata": {},
   "outputs": [],
   "source": [
    "# training set, bag of word for every sentence\n",
    "for doc in documents:\n",
    "    bag = list()\n",
    "    word_patterns = doc[0]\n",
    "    word_patterns = [lemmatizer.lemmatize(word.lower()) for word in word_patterns if word not in ignore_letters]\n",
    "    for word in words:\n",
    "        bag.append(1) if word in word_patterns else bag.append(0)\n",
    "    # output is a 0 for each tag and 1 for current tag (each pattern)\n",
    "    output_row = list(output_empty)\n",
    "    output_row[classes.index(doc[1])] = 1\n",
    "    training.append([bag, output_row])\n",
    "    \n",
    "#training[0]"
   ]
  },
  {
   "cell_type": "code",
   "execution_count": 8,
   "id": "88a958c1-f98e-4348-bf1c-897ea23cbabf",
   "metadata": {},
   "outputs": [
    {
     "name": "stdout",
     "output_type": "stream",
     "text": [
      "47 47\n"
     ]
    },
    {
     "name": "stderr",
     "output_type": "stream",
     "text": [
      "/home/chuongnet/anaconda3/lib/python3.9/site-packages/numpy/core/_asarray.py:102: VisibleDeprecationWarning: Creating an ndarray from ragged nested sequences (which is a list-or-tuple of lists-or-tuples-or ndarrays with different lengths or shapes) is deprecated. If you meant to do this, you must specify 'dtype=object' when creating the ndarray.\n",
      "  return array(a, dtype, copy=False, order=order)\n"
     ]
    }
   ],
   "source": [
    "# shuffle training\n",
    "random.shuffle(training)\n",
    "training = np.asarray(training)\n",
    "train_X = list(training[:, 0])\n",
    "train_y = list(training[:, 1])\n",
    "print(len(train_X), len(train_y))"
   ]
  },
  {
   "cell_type": "code",
   "execution_count": 9,
   "id": "c15c2dae-1d6c-47a2-8a1d-37bfd2d51c8c",
   "metadata": {},
   "outputs": [
    {
     "data": {
      "text/plain": [
       "array([list([0, 0, 0, 0, 0, 0, 0, 0, 0, 0, 0, 0, 0, 0, 0, 0, 0, 0, 0, 0, 0, 0, 0, 0, 0, 0, 0, 0, 0, 0, 0, 0, 0, 0, 0, 0, 0, 0, 0, 0, 0, 0, 0, 0, 0, 0, 1, 0, 0, 0, 0, 0, 0, 0, 0, 0, 0, 0, 0, 0, 1, 0, 0, 0, 0, 0, 0, 0, 0, 0, 0, 0, 0, 0, 0, 0, 0, 0, 0, 0, 0, 0, 0, 0, 0, 0, 0]),\n",
       "       list([0, 0, 0, 0, 0, 0, 0, 1, 0])], dtype=object)"
      ]
     },
     "execution_count": 9,
     "metadata": {},
     "output_type": "execute_result"
    }
   ],
   "source": [
    "training[0]"
   ]
  },
  {
   "cell_type": "code",
   "execution_count": 11,
   "id": "50fb8392-e63c-46c5-90fb-982025a735d5",
   "metadata": {},
   "outputs": [
    {
     "data": {
      "image/png": "[encoded data removed]",
      "text/plain": [
       "<IPython.core.display.Image object>"
      ]
     },
     "execution_count": 11,
     "metadata": {},
     "output_type": "execute_result"
    }
   ],
   "source": [
    "# create DL model\n",
    "from tensorflow.keras.utils import plot_model\n",
    "\n",
    "\n",
    "model = Sequential()\n",
    "model.add(Dense(128, input_shape=(len(train_X[0]),), activation='relu'))\n",
    "model.add(Dropout(0.5))\n",
    "model.add(Dense(64, activation='relu'))\n",
    "model.add(Dropout(0.5))\n",
    "model.add(Dense(len(train_y[0]), activation='softmax'))\n",
    "\n",
    "sgd = SGD(learning_rate=0.01, decay=1e-6, momentum=0.9, nesterov=True)\n",
    "model.compile(loss='categorical_crossentropy', optimizer=sgd, metrics=['accuracy'])\n",
    "plot_model(model)"
   ]
  },
  {
   "cell_type": "code",
   "execution_count": 13,
   "id": "336ecbca-d021-4014-a92d-4f5c8a7fcf36",
   "metadata": {},
   "outputs": [
    {
     "name": "stderr",
     "output_type": "stream",
     "text": [
      "2022-04-02 17:51:22.156319: I tensorflow/stream_executor/cuda/cuda_blas.cc:1786] TensorFloat-32 will be used for the matrix multiplication. This will only be logged once.\n"
     ]
    }
   ],
   "source": [
    "hist = model.fit(np.array(train_X), np.array(train_y), epochs=500, batch_size=5, verbose=0)"
   ]
  },
  {
   "cell_type": "code",
   "execution_count": 14,
   "id": "949c3c13-f61e-4332-8d31-ad66c292fe58",
   "metadata": {},
   "outputs": [],
   "source": [
    "model.save('chatbot_model.h5', hist)"
   ]
  },
  {
   "cell_type": "code",
   "execution_count": null,
   "id": "54b53b13-7c42-4a40-9ae4-cc38932e9227",
   "metadata": {},
   "outputs": [],
   "source": []
  }
 ],
 "metadata": {
  "kernelspec": {
   "display_name": "Python 3 (ipykernel)",
   "language": "python",
   "name": "python3"
  },
  "language_info": {
   "codemirror_mode": {
    "name": "ipython",
    "version": 3
   },
   "file_extension": ".py",
   "mimetype": "text/x-python",
   "name": "python",
   "nbconvert_exporter": "python",
   "pygments_lexer": "ipython3",
   "version": "3.9.7"
  }
 },
 "nbformat": 4,
 "nbformat_minor": 5
}
